{
 "cells": [
  {
   "cell_type": "code",
   "execution_count": 1,
   "metadata": {},
   "outputs": [
    {
     "ename": "NameError",
     "evalue": "name 'data_set' is not defined",
     "output_type": "error",
     "traceback": [
      "\u001b[0;31m---------------------------------------------------------------------------\u001b[0m",
      "\u001b[0;31mNameError\u001b[0m                                 Traceback (most recent call last)",
      "\u001b[0;32m<ipython-input-1-2588584b7527>\u001b[0m in \u001b[0;36m<module>\u001b[0;34m()\u001b[0m\n\u001b[1;32m      2\u001b[0m \u001b[0;34m\u001b[0m\u001b[0m\n\u001b[1;32m      3\u001b[0m \u001b[0mlimiting_number\u001b[0m \u001b[0;34m=\u001b[0m \u001b[0;36m5\u001b[0m\u001b[0;34m\u001b[0m\u001b[0m\n\u001b[0;32m----> 4\u001b[0;31m \u001b[0mstart\u001b[0m \u001b[0;34m=\u001b[0m \u001b[0mdata_set\u001b[0m\u001b[0;34m[\u001b[0m\u001b[0;34m'Timestamp'\u001b[0m\u001b[0;34m]\u001b[0m\u001b[0;34m.\u001b[0m\u001b[0miloc\u001b[0m\u001b[0;34m[\u001b[0m\u001b[0;36m0\u001b[0m\u001b[0;34m]\u001b[0m\u001b[0;34m\u001b[0m\u001b[0m\n\u001b[0m\u001b[1;32m      5\u001b[0m \u001b[0mtime_obj\u001b[0m \u001b[0;34m=\u001b[0m \u001b[0mdatetime\u001b[0m\u001b[0;34m.\u001b[0m\u001b[0mstrptime\u001b[0m\u001b[0;34m(\u001b[0m\u001b[0mstart\u001b[0m\u001b[0;34m,\u001b[0m \u001b[0;34m'%Y-%m-%dT%H:%M:%S'\u001b[0m\u001b[0;34m)\u001b[0m \u001b[0;34m+\u001b[0m \u001b[0mtimedelta\u001b[0m\u001b[0;34m(\u001b[0m\u001b[0mminutes\u001b[0m\u001b[0;34m=\u001b[0m\u001b[0;36m120\u001b[0m\u001b[0;34m)\u001b[0m\u001b[0;34m\u001b[0m\u001b[0m\n\u001b[1;32m      6\u001b[0m \u001b[0mplus_time\u001b[0m \u001b[0;34m=\u001b[0m \u001b[0mtime_obj\u001b[0m\u001b[0;34m.\u001b[0m\u001b[0mstrftime\u001b[0m\u001b[0;34m(\u001b[0m\u001b[0;34m'%Y-%m-%dT%H:%M:%S'\u001b[0m\u001b[0;34m)\u001b[0m\u001b[0;34m\u001b[0m\u001b[0m\n",
      "\u001b[0;31mNameError\u001b[0m: name 'data_set' is not defined"
     ]
    }
   ],
   "source": [
    "from datetime import timedelta, datetime\n",
    "\n",
    "limiting_number = 5\n",
    "start = data_set['Timestamp'].iloc[0]\n",
    "time_obj = datetime.strptime(start, '%Y-%m-%dT%H:%M:%S') + timedelta(minutes=120)\n",
    "plus_time = time_obj.strftime('%Y-%m-%dT%H:%M:%S')\n",
    "\n",
    "curtailments_list = []\n",
    "\n",
    "while plus_time < data_set['Timestamp'].iloc[-1]:\n",
    "#     plt.figure(figsize=(30, 15))\n",
    "    part_data = data_set[(data_set['Timestamp'] > start) & (data_set['Timestamp'] < plus_time)]\n",
    "#     print part_data\n",
    "#     print '--------------------------------------------------------'\n",
    "#     plt.scatter(part_data['scaled_WindSpeed'], part_data['discrete_ActivePower'])\n",
    "#     plt.show()\n",
    "    time_obj = datetime.strptime(start, '%Y-%m-%dT%H:%M:%S') + timedelta(minutes=10)\n",
    "    start = time_obj.strftime('%Y-%m-%dT%H:%M:%S')\n",
    "    plus_time = (time_obj + timedelta(minutes=130)).strftime('%Y-%m-%dT%H:%M:%S')\n",
    "    for group in part_data.groupby('discrete_ActivePower'):\n",
    "        if group[1].shape[0] > limiting_number and group[0] > 10 and group[0] < 90:\n",
    "            curtailments_list.append(group[1])\n",
    "\n",
    "plt.figure(figsize=(30, 15))\n",
    "plt.scatter(data_set['scaled_WindSpeed'], data_set['scaled_ActivePower'], s=np.pi*3*3)\n",
    "curtailments_data_set = pd.concat(curtailments_list)\n",
    "plt.scatter(curtailments_data_set['scaled_WindSpeed'], curtailments_data_set['scaled_ActivePower'], c='#000000', s=np.pi*3*3)\n",
    "\n",
    "plt.show()"
   ]
  }
 ],
 "metadata": {
  "kernelspec": {
   "display_name": "Mytrah",
   "language": "python",
   "name": "mytrah"
  },
  "language_info": {
   "codemirror_mode": {
    "name": "ipython",
    "version": 2
   },
   "file_extension": ".py",
   "mimetype": "text/x-python",
   "name": "python",
   "nbconvert_exporter": "python",
   "pygments_lexer": "ipython2",
   "version": "2.7.12"
  }
 },
 "nbformat": 4,
 "nbformat_minor": 2
}
