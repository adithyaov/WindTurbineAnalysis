{
 "cells": [
  {
   "cell_type": "code",
   "execution_count": 2,
   "metadata": {},
   "outputs": [
    {
     "ename": "NameError",
     "evalue": "name 'xr_data' is not defined",
     "output_type": "error",
     "traceback": [
      "\u001b[0;31m---------------------------------------------------------------------------\u001b[0m",
      "\u001b[0;31mNameError\u001b[0m                                 Traceback (most recent call last)",
      "\u001b[0;32m<ipython-input-2-31b1b03eab6b>\u001b[0m in \u001b[0;36m<module>\u001b[0;34m()\u001b[0m\n\u001b[1;32m     10\u001b[0m my_plotter(\n\u001b[1;32m     11\u001b[0m     \u001b[0maxes_obj\u001b[0m\u001b[0;34m,\u001b[0m\u001b[0;34m\u001b[0m\u001b[0m\n\u001b[0;32m---> 12\u001b[0;31m     \u001b[0mxr_data\u001b[0m\u001b[0;34m[\u001b[0m\u001b[0;34m'TempBottomControlSection_AVG'\u001b[0m\u001b[0;34m]\u001b[0m\u001b[0;34m.\u001b[0m\u001b[0mloc\u001b[0m\u001b[0;34m[\u001b[0m\u001b[0;34m:\u001b[0m\u001b[0;34m,\u001b[0m \u001b[0;34m'MK014'\u001b[0m\u001b[0;34m]\u001b[0m\u001b[0;34m.\u001b[0m\u001b[0mtime_stamp\u001b[0m\u001b[0;34m,\u001b[0m\u001b[0;34m\u001b[0m\u001b[0m\n\u001b[0m\u001b[1;32m     13\u001b[0m     \u001b[0mxr_data\u001b[0m\u001b[0;34m[\u001b[0m\u001b[0;34m'TempBottomControlSection_AVG'\u001b[0m\u001b[0;34m]\u001b[0m\u001b[0;34m.\u001b[0m\u001b[0mloc\u001b[0m\u001b[0;34m[\u001b[0m\u001b[0;34m:\u001b[0m\u001b[0;34m,\u001b[0m \u001b[0;34m'MK014'\u001b[0m\u001b[0;34m]\u001b[0m\u001b[0;34m,\u001b[0m\u001b[0;34m\u001b[0m\u001b[0m\n\u001b[1;32m     14\u001b[0m     {\n",
      "\u001b[0;31mNameError\u001b[0m: name 'xr_data' is not defined"
     ]
    }
   ],
   "source": [
    "import matplotlib.pyplot as plt_obj\n",
    "\n",
    "fig_obj = plt_obj.figure(figsize = (25, 10))\n",
    "axes_obj = fig_obj.add_subplot(111)\n",
    "\n",
    "def my_plotter(axes_obj, x, y, param_dict):\n",
    "    out = axes_obj.plot(x, y, **param_dict)\n",
    "    return out\n",
    "\n",
    "my_plotter(\n",
    "    axes_obj,\n",
    "    xr_data['TempBottomControlSection_AVG'].loc[:, 'MK014'].time_stamp,\n",
    "    xr_data['TempBottomControlSection_AVG'].loc[:, 'MK014'],\n",
    "    {\n",
    "        'linestyle': ' ',\n",
    "        'marker': '.'\n",
    "    }\n",
    ")\n",
    "my_plotter(\n",
    "    axes_obj,\n",
    "    xr_data['TempBottomControlSection_AVG'].loc[:, 'MK015'].time_stamp,\n",
    "    xr_data['TempBottomControlSection_AVG'].loc[:, 'MK015'],\n",
    "    {\n",
    "        'linestyle': ' ',\n",
    "        'marker': '.'\n",
    "    }\n",
    ")\n",
    "\n",
    "import matplotlib.dates as mdates\n",
    "#import datetime as dt\n",
    "\n",
    "axes_obj.xaxis.set_major_formatter(mdates.DateFormatter('%m-%d %H:%M'))\n",
    "axes_obj.set_xticks(pd.date_range(\n",
    "    time_stamp_list[0],\n",
    "    #time_stamp_list[-1] + dt.timedelta(minutes=10),\n",
    "    time_stamp_list[-1],\n",
    "    freq='10min'\n",
    "), minor=False)\n",
    "axes_obj.tick_params(\n",
    "    axis='x',\n",
    "    which='major',\n",
    "    pad=5,\n",
    "    labelsize=8,\n",
    "    \n",
    ")\n",
    "axes_obj.minorticks_on\n",
    "plt_obj.xticks(rotation=90)\n",
    "plt_obj.grid(True)\n",
    "\n",
    "plt_obj.show()"
   ]
  },
  {
   "cell_type": "code",
   "execution_count": null,
   "metadata": {
    "collapsed": true
   },
   "outputs": [],
   "source": []
  }
 ],
 "metadata": {
  "kernelspec": {
   "display_name": "Mytrah",
   "language": "python",
   "name": "mytrah"
  },
  "language_info": {
   "codemirror_mode": {
    "name": "ipython",
    "version": 2
   },
   "file_extension": ".py",
   "mimetype": "text/x-python",
   "name": "python",
   "nbconvert_exporter": "python",
   "pygments_lexer": "ipython2",
   "version": "2.7.12"
  }
 },
 "nbformat": 4,
 "nbformat_minor": 2
}
