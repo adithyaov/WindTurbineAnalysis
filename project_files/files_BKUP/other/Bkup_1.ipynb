{
 "cells": [
  {
   "cell_type": "code",
   "execution_count": null,
   "metadata": {
    "collapsed": true
   },
   "outputs": [],
   "source": [
    "# style_dict = {}\n",
    "\n",
    "# for machine in machine_list:\n",
    "#     style_dict[machine] = {}\n",
    "#     style_dict[machine]['color'] = '#' + (str(randint(0,999999)) + '00000')[0:6]\n",
    "#     style_dict[machine]['line_style'] = choice(['--', '-.', '-', ':'])\n",
    "\n",
    "# x_range_list = range(num_sliced_files)\n",
    "\n",
    "# plot_add = plot_graph(\n",
    "#     plot_data = [\n",
    "#         {\n",
    "#             'y': list(get_data_by_machine(machine_name)['Amb.NacelleTemp_AVG']),\n",
    "#             'x': x_range_list,\n",
    "#             'color': style_dict[machine_name]['color'],\n",
    "#             'line_style': style_dict[machine_name]['line_style']\n",
    "#         }\n",
    "#         for machine_name in machine_list\n",
    "#     ],\n",
    "#     grid = True,\n",
    "#     y_label = 'Amb.NacelleTemp_AVG',\n",
    "#     x_label = 'Ascending file names',\n",
    "#     plot_title = 'Amb.NacelleTemp_AVG per machine for 90 minutes',\n",
    "#     x_ticks = {\n",
    "#         'ticks': sliced_file_list,\n",
    "#         'rotation': 90\n",
    "#     }\n",
    "# )\n",
    "\n",
    "#plot_add.show()"
   ]
  }
 ],
 "metadata": {
  "kernelspec": {
   "display_name": "Mytrah",
   "language": "python",
   "name": "mytrah"
  },
  "language_info": {
   "codemirror_mode": {
    "name": "ipython",
    "version": 2
   },
   "file_extension": ".py",
   "mimetype": "text/x-python",
   "name": "python",
   "nbconvert_exporter": "python",
   "pygments_lexer": "ipython2",
   "version": "2.7.12"
  }
 },
 "nbformat": 4,
 "nbformat_minor": 2
}
