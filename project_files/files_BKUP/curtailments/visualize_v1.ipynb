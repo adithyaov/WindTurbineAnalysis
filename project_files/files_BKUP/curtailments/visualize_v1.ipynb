{
 "cells": [
  {
   "cell_type": "code",
   "execution_count": 1,
   "metadata": {
    "collapsed": true
   },
   "outputs": [],
   "source": [
    "import numpy as np\n",
    "import pandas as pd\n",
    "\n",
    "from os import listdir\n",
    "from os.path import isfile, join"
   ]
  },
  {
   "cell_type": "code",
   "execution_count": 2,
   "metadata": {
    "collapsed": true,
    "scrolled": true
   },
   "outputs": [],
   "source": [
    "data_path = '/home/mytrah-pc/Data/Mokal/'\n",
    "data_files = [f for f in listdir(data_path) if (f[-4:] == '.csv')]\n",
    "data_files = sorted(data_files)\n",
    "num_data_files = len(data_files)"
   ]
  },
  {
   "cell_type": "code",
   "execution_count": 3,
   "metadata": {
    "collapsed": true
   },
   "outputs": [],
   "source": [
    "frame_list = []\n",
    "sliced_file_list = data_files[-1100: -1000]\n",
    "\n",
    "for csv_file in sliced_file_list:\n",
    "    temp_frame = pd.read_csv(join(data_path, csv_file))\n",
    "    temp_frame['file_name'] = pd.Series(csv_file, index = temp_frame.index)\n",
    "    frame_list.append(temp_frame)"
   ]
  },
  {
   "cell_type": "code",
   "execution_count": 4,
   "metadata": {
    "collapsed": true
   },
   "outputs": [],
   "source": [
    "import matplotlib.pyplot as pyplot"
   ]
  },
  {
   "cell_type": "code",
   "execution_count": 5,
   "metadata": {
    "collapsed": true
   },
   "outputs": [],
   "source": [
    "def plot_graph(**kwargs):\n",
    "\n",
    "    if 'figure_size' in kwargs:\n",
    "        pyplot.figure(figsize = ((kwargs['figure_size']['width'], kwargs['figure_size']['height'])))\n",
    "    else:\n",
    "        pyplot.figure(figsize = (20, 10))\n",
    "    \n",
    "    if 'plot_data' in kwargs:\n",
    "        for plot_data_item in kwargs['plot_data']:\n",
    "            pyplot.plot(\n",
    "                plot_data_item['x'], plot_data_item['y'],\n",
    "                **plot_data_item['extra_data']\n",
    "            )\n",
    "    \n",
    "    if 'x_label' in kwargs:\n",
    "        pyplot.xlabel(kwargs['x_label'])\n",
    "    else:\n",
    "        pyplot.xlabel('X-axis')\n",
    "        \n",
    "    if 'y_label' in kwargs:\n",
    "        pyplot.ylabel(kwargs['y_label'])\n",
    "    else:\n",
    "        pyplot.ylabel('Y-axis')\n",
    "        \n",
    "    if 'plot_title' in kwargs:\n",
    "        pyplot.title(kwargs['plot_title'])\n",
    "    else:\n",
    "        pyplot.title('Plot')\n",
    "        \n",
    "    if 'grid' in kwargs:\n",
    "        if(kwargs['grid'] == True):\n",
    "            pyplot.grid(True)\n",
    "            \n",
    "    if 'plot_text' in kwargs:\n",
    "        for plot_text_item in kwargs['plot_text']:\n",
    "            pyplot.text(plot_text_item['x'], plot_text_item['y'], plot_text_item['text'],\n",
    "                        color = (plot_text_item['color'] if ('color' in plot_text_item.keys()) else 'b'),\n",
    "                        fontsize = (plot_text_item['fontsize'] if ('fontsize' in plot_text_item.keys()) else 10))\n",
    "\n",
    "    if 'x_ticks' in kwargs:\n",
    "        pyplot.xticks(range(len(kwargs['x_ticks']['ticks'])), kwargs['x_ticks']['ticks'], rotation = kwargs['x_ticks']['rotation'])\n",
    "\n",
    "    return pyplot\n",
    "    "
   ]
  },
  {
   "cell_type": "code",
   "execution_count": 6,
   "metadata": {
    "collapsed": true,
    "scrolled": true
   },
   "outputs": [],
   "source": [
    "data_3d = pd.concat(frame_list, axis = 0)"
   ]
  },
  {
   "cell_type": "code",
   "execution_count": 7,
   "metadata": {
    "collapsed": true
   },
   "outputs": [],
   "source": [
    "def immediate_non_uniform_changes(data_3d, column_list, machine_list):\n",
    "    data_hold = data_3d.set_index('Machine')\n",
    "    result = []\n",
    "    for column_name in column_list:\n",
    "        for machine in machine_list:\n",
    "            temp_data = data_hold.loc[machine]\n",
    "\n",
    "            find_dev = temp_data.copy()[[column_name]]\n",
    "            find_dev['prev_' + column_name] = find_dev.shift(1)[column_name]\n",
    "            find_dev['next_' + column_name] = find_dev.shift(-1)[column_name]\n",
    "            find_dev['std'] = find_dev.std(axis = 1)\n",
    "            t_mean = find_dev[['std']].mean()\n",
    "            t_std = find_dev[['std']].std()\n",
    "            std_multiplier = 3\n",
    "            limit = (t_mean - std_multiplier * t_std, t_mean + std_multiplier * t_std)\n",
    "            bool_cols = (find_dev['std'] < limit[0]['std']) | (find_dev['std'] > limit[1]['std'])\n",
    "\n",
    "            result.append(\n",
    "                {\n",
    "                    'machine': machine,\n",
    "                    'column_name': column_name,\n",
    "                    'volatile_points': list(temp_data[list(bool_cols)]['file_name'])\n",
    "                }\n",
    "            )\n",
    "    return result"
   ]
  },
  {
   "cell_type": "code",
   "execution_count": 8,
   "metadata": {},
   "outputs": [
    {
     "data": {
      "text/plain": [
       "[{'column_name': 'TempBottomControlSection_AVG',\n",
       "  'machine': 'MK014',\n",
       "  'volatile_points': ['Mokal-20170602-090000--599.csv',\n",
       "   'Mokal-20170605-130000--24.csv']},\n",
       " {'column_name': 'TempBottomControlSection_AVG',\n",
       "  'machine': 'MK163',\n",
       "  'volatile_points': ['Mokal-20170602-090000--599.csv',\n",
       "   'Mokal-20170605-130000--24.csv']}]"
      ]
     },
     "execution_count": 8,
     "metadata": {},
     "output_type": "execute_result"
    }
   ],
   "source": [
    "immediate_non_uniform_changes(data_3d, ['TempBottomControlSection_AVG'], ['MK014', 'MK163'])"
   ]
  },
  {
   "cell_type": "code",
   "execution_count": 9,
   "metadata": {
    "collapsed": true
   },
   "outputs": [],
   "source": [
    "def get_data_by_file_name(file_names, data_to_filter):\n",
    "    return data_to_filter.set_index(['file_name']).loc[file_names].reset_index()\n",
    "\n",
    "def get_data_by_machine(machine_names, data_to_filter):\n",
    "    return data_to_filter.set_index(['Machine']).loc[machine_names].reset_index()"
   ]
  },
  {
   "cell_type": "code",
   "execution_count": 10,
   "metadata": {
    "collapsed": true
   },
   "outputs": [],
   "source": [
    "from random import randint, choice"
   ]
  },
  {
   "cell_type": "code",
   "execution_count": null,
   "metadata": {
    "collapsed": true
   },
   "outputs": [],
   "source": [
    "machine_list = ['B-' + str(i) for i in range(509, 540)]\n",
    "machine_str = 'MK014.MK015.MK016.MK017.MK021.MK039.MK040.MK042.MK043.MK066.MK067.MK068.MK069.MK092.MK093.MK094.MK161.MK163.MK164.MK165'\n",
    "machine_list_mokal = machine_str.split('.')"
   ]
  },
  {
   "cell_type": "code",
   "execution_count": null,
   "metadata": {
    "collapsed": true,
    "scrolled": false
   },
   "outputs": [],
   "source": [
    "def statistic_op(file_list, machine_list, column_names, apply_functions, data_3d, **function_args):\n",
    "    data_for_statistics = data_3d.set_index(['Machine']).loc[machine_list].set_index('file_name').loc[file_list]\n",
    "    \n",
    "    return_dict = {}\n",
    "    for column_name in column_names:\n",
    "        return_dict[column_name] = {}\n",
    "        for file_name in file_list:\n",
    "            return_dict[column_name][file_name] = {}\n",
    "            for function in apply_functions:\n",
    "                return_dict[column_name][file_name][function] = function_args[function](list(data_for_statistics.loc[file_name][column_name]))\n",
    "\n",
    "    return return_dict"
   ]
  },
  {
   "cell_type": "code",
   "execution_count": null,
   "metadata": {
    "collapsed": true
   },
   "outputs": [],
   "source": [
    "function_args = {\n",
    "    'mean': np.nanmean,\n",
    "    'std': np.nanstd,\n",
    "    'min': np.nanmin,\n",
    "    'max': np.nanmax\n",
    "}"
   ]
  },
  {
   "cell_type": "code",
   "execution_count": null,
   "metadata": {
    "collapsed": true
   },
   "outputs": [],
   "source": [
    "def time_serial(machine_list, file_list, column_name, data_3d, **kwargs):\n",
    "    style_dict = {}\n",
    "\n",
    "    for machine in machine_list:\n",
    "        style_dict[machine] = {}\n",
    "        style_dict[machine]['color'] = '#' + (str(randint(0,999999)) + '00000')[0:6]\n",
    "        style_dict[machine]['line_style'] = choice(['--', '-.', '-', ':'])\n",
    "    \n",
    "    num_files = len(file_list)\n",
    "    x_range_list = range(num_files)\n",
    "\n",
    "    return {\n",
    "        'plot_object': plot_graph(\n",
    "            plot_data = [\n",
    "                {\n",
    "                    'y': list(get_data_by_machine(machine_name, data_3d)[column_name]),\n",
    "                    'x': x_range_list,\n",
    "                    'extra_data': {\n",
    "                        'color': style_dict[machine_name]['color'],\n",
    "                        'linestyle': style_dict[machine_name]['line_style'],\n",
    "                        'label': machine_name,\n",
    "                        'marker': '.'\n",
    "                    }\n",
    "                }\n",
    "                for machine_name in machine_list\n",
    "            ],\n",
    "            grid = True,\n",
    "            y_label = column_name,\n",
    "            x_label = 'Ascending File names',\n",
    "            plot_title = column_name + ' per Machine',\n",
    "            x_ticks = {\n",
    "                'ticks': file_list,\n",
    "                'rotation': 90\n",
    "            },\n",
    "            **kwargs\n",
    "        ),\n",
    "        'style_dict': style_dict        \n",
    "    }\n",
    "\n",
    "def make_additional_plots(plot_object, plot_data):\n",
    "    for plot_data_item in plot_data:\n",
    "        plot_object.plot(\n",
    "            plot_data_item['x'], plot_data_item['y'],\n",
    "            **plot_data_item['extra_data']\n",
    "        )"
   ]
  },
  {
   "cell_type": "code",
   "execution_count": null,
   "metadata": {
    "collapsed": true
   },
   "outputs": [],
   "source": [
    "def plot_permissable_limits(plot_object, data_statistics, column_name):\n",
    "    upper_std_limit = [data_statistics[column_name][item]['mean'] + 3*data_statistics[column_name][item]['std']\n",
    "                       for item in sorted(data_statistics[column_name].keys())]\n",
    "    lower_std_limit = [data_statistics[column_name][item]['mean'] - 3*data_statistics[column_name][item]['std']\n",
    "                       for item in sorted(data_statistics[column_name].keys())]\n",
    "\n",
    "\n",
    "    make_additional_plots(plot_object, [\n",
    "        {\n",
    "            'y': upper_std_limit,\n",
    "            'x': range(len(upper_std_limit)),\n",
    "            'extra_data': {\n",
    "                'label': 'Stat Line',\n",
    "                'marker': 'o',\n",
    "                'linestyle': '',\n",
    "                'label': 'Upper Limit'\n",
    "            }\n",
    "        },\n",
    "        {\n",
    "            'y': lower_std_limit,\n",
    "            'x': range(len(lower_std_limit)),\n",
    "            'extra_data': {\n",
    "                'label': 'Stat Line',\n",
    "                'marker': 'o',\n",
    "                'linestyle': '',\n",
    "                'label': 'Lower Limit'\n",
    "            }\n",
    "        }\n",
    "    ])"
   ]
  },
  {
   "cell_type": "code",
   "execution_count": null,
   "metadata": {
    "collapsed": true
   },
   "outputs": [],
   "source": [
    "def final_renders(plot_object, **kwargs):\n",
    "     plot_object.legend(bbox_to_anchor=(1.02, 1), loc = 2, borderaxespad = 0.)"
   ]
  },
  {
   "cell_type": "code",
   "execution_count": null,
   "metadata": {
    "collapsed": true
   },
   "outputs": [],
   "source": [
    "def clean_data(data_3d, column_name):\n",
    "    cleaned_data = data_3d.copy()\n",
    "    cleaned_data.loc[(data_3d.TurbineState_AVG == 9001), column_name] = np.nan\n",
    "    return cleaned_data"
   ]
  },
  {
   "cell_type": "code",
   "execution_count": null,
   "metadata": {
    "collapsed": true
   },
   "outputs": [],
   "source": [
    "def visualize_v1(machine_list, file_list, column_name, data_3d, **kwargs):\n",
    "    cleaned_data = clean_data(data_3d, column_name)\n",
    "    data_statistics = statistic_op(file_list, machine_list, [column_name], ['mean', 'std', 'min', 'max'], cleaned_data, **function_args)\n",
    "    \n",
    "    time_object = time_serial(\n",
    "        machine_list, file_list, column_name, cleaned_data,\n",
    "        **kwargs\n",
    "    )\n",
    "    \n",
    "    plot_permissable_limits(time_object['plot_object'], data_statistics, column_name)\n",
    "    \n",
    "    final_renders(time_object['plot_object'])\n",
    "    time_object['plot_object'].show()"
   ]
  },
  {
   "cell_type": "code",
   "execution_count": null,
   "metadata": {
    "scrolled": true
   },
   "outputs": [],
   "source": [
    "for x in list(data_3d.columns):\n",
    "    if 'AVG' in x:\n",
    "        print x"
   ]
  },
  {
   "cell_type": "code",
   "execution_count": null,
   "metadata": {},
   "outputs": [],
   "source": [
    "visualize_v1(machine_list_mokal, sliced_file_list, 'TempBottomControlSection_AVG', data_3d, figure_size = {\n",
    "    'width': 80,\n",
    "    'height': 15\n",
    "})"
   ]
  },
  {
   "cell_type": "code",
   "execution_count": null,
   "metadata": {
    "collapsed": true
   },
   "outputs": [],
   "source": []
  }
 ],
 "metadata": {
  "kernelspec": {
   "display_name": "Mytrah",
   "language": "python",
   "name": "mytrah"
  },
  "language_info": {
   "codemirror_mode": {
    "name": "ipython",
    "version": 2
   },
   "file_extension": ".py",
   "mimetype": "text/x-python",
   "name": "python",
   "nbconvert_exporter": "python",
   "pygments_lexer": "ipython2",
   "version": "2.7.12"
  }
 },
 "nbformat": 4,
 "nbformat_minor": 2
}
