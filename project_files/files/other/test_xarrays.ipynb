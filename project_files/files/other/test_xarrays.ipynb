{
 "cells": [
  {
   "cell_type": "code",
   "execution_count": 1,
   "metadata": {
    "collapsed": true
   },
   "outputs": [],
   "source": [
    "import numpy as np\n",
    "import pandas as pd\n",
    "import xarray as xr\n",
    "\n",
    "from os import listdir\n",
    "from os.path import isfile, join"
   ]
  },
  {
   "cell_type": "code",
   "execution_count": 2,
   "metadata": {
    "collapsed": true
   },
   "outputs": [],
   "source": [
    "data_path = '/home/mytrah-pc/Data/Mokal/'\n",
    "data_files = [f for f in listdir(data_path) if (f[-4:] == '.csv')]\n",
    "data_files = sorted(data_files)\n",
    "num_data_files = len(data_files)\n",
    "frame_list = []"
   ]
  },
  {
   "cell_type": "code",
   "execution_count": 3,
   "metadata": {
    "collapsed": true
   },
   "outputs": [],
   "source": [
    "time_stamps = [file_name[6:21] for file_name in data_files]"
   ]
  },
  {
   "cell_type": "code",
   "execution_count": 4,
   "metadata": {
    "collapsed": true
   },
   "outputs": [],
   "source": [
    "properties_list = ['TempBottomControlSection_AVG', 'TempBottomPowerSection_AVG', 'TurbineState_AVG']\n",
    "machine_list = ['MK014', 'MK015', 'MK016']"
   ]
  },
  {
   "cell_type": "code",
   "execution_count": 5,
   "metadata": {
    "collapsed": true
   },
   "outputs": [],
   "source": [
    "sliced_file_list = data_files[-1100: -1098]"
   ]
  },
  {
   "cell_type": "code",
   "execution_count": 6,
   "metadata": {
    "collapsed": true
   },
   "outputs": [],
   "source": [
    "time_stamp_list = pd.to_datetime([file_name[6:21] for file_name in sliced_file_list])"
   ]
  },
  {
   "cell_type": "code",
   "execution_count": 7,
   "metadata": {
    "collapsed": true
   },
   "outputs": [],
   "source": [
    "for csv_file in sliced_file_list:\n",
    "    temp_frame = pd.read_csv(join(data_path, csv_file))\n",
    "    temp_frame.index.name = 'Machine'\n",
    "    temp_frame.columns.name = 'Properties'\n",
    "    frame_list.append(temp_frame.set_index('Machine').loc[machine_list][properties_list].as_matrix())"
   ]
  },
  {
   "cell_type": "code",
   "execution_count": 8,
   "metadata": {
    "collapsed": true,
    "scrolled": true
   },
   "outputs": [],
   "source": [
    "data_3d_array = np.array(frame_list)"
   ]
  },
  {
   "cell_type": "code",
   "execution_count": 9,
   "metadata": {
    "scrolled": true
   },
   "outputs": [
    {
     "data": {
      "text/plain": [
       "array([[[ 49.        ,  47.12020033,  11.64941569],\n",
       "        [ 49.        ,  47.        ,  12.        ],\n",
       "        [ 48.        ,  46.81469115,  11.48914858]],\n",
       "\n",
       "       [[ 49.        ,  47.        ,  10.99166667],\n",
       "        [ 49.        ,  47.        ,  11.375     ],\n",
       "        [ 48.        ,  46.58666667,  11.82      ]]])"
      ]
     },
     "execution_count": 9,
     "metadata": {},
     "output_type": "execute_result"
    }
   ],
   "source": [
    "data_3d_array"
   ]
  },
  {
   "cell_type": "code",
   "execution_count": 10,
   "metadata": {
    "collapsed": true
   },
   "outputs": [],
   "source": [
    "xr_data = xr.Dataset()"
   ]
  },
  {
   "cell_type": "code",
   "execution_count": 11,
   "metadata": {
    "collapsed": true
   },
   "outputs": [],
   "source": [
    "for prop in properties_list:\n",
    "    xr_data[prop] = (('time_stamp', 'machine'), data_3d_array[:, :, properties_list.index(prop)])\n",
    "\n",
    "xr_data.coords['time_stamp'] = time_stamp_list\n",
    "xr_data.coords['machine'] = machine_list"
   ]
  },
  {
   "cell_type": "code",
   "execution_count": 12,
   "metadata": {
    "collapsed": true
   },
   "outputs": [],
   "source": [
    "mask = xr_data['TurbineState_AVG'] != 9001"
   ]
  },
  {
   "cell_type": "code",
   "execution_count": 13,
   "metadata": {
    "scrolled": true
   },
   "outputs": [
    {
     "data": {
      "text/plain": [
       "<xarray.DataArray (time_stamp: 2, machine: 3)>\n",
       "array([[ 49.,  49.,  48.],\n",
       "       [ 49.,  49.,  48.]])\n",
       "Coordinates:\n",
       "  * time_stamp  (time_stamp) datetime64[ns] 2017-06-01T18:20:00 ...\n",
       "  * machine     (machine) |S5 'MK014' 'MK015' 'MK016'"
      ]
     },
     "execution_count": 13,
     "metadata": {},
     "output_type": "execute_result"
    }
   ],
   "source": [
    "xr_data['TempBottomControlSection_AVG'].where(mask)"
   ]
  },
  {
   "cell_type": "code",
   "execution_count": null,
   "metadata": {
    "collapsed": true
   },
   "outputs": [],
   "source": []
  }
 ],
 "metadata": {
  "kernelspec": {
   "display_name": "Mytrah",
   "language": "python",
   "name": "mytrah"
  },
  "language_info": {
   "codemirror_mode": {
    "name": "ipython",
    "version": 2
   },
   "file_extension": ".py",
   "mimetype": "text/x-python",
   "name": "python",
   "nbconvert_exporter": "python",
   "pygments_lexer": "ipython2",
   "version": "2.7.12"
  }
 },
 "nbformat": 4,
 "nbformat_minor": 2
}
